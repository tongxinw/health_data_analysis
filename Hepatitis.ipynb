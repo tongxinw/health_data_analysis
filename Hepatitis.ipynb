{
 "cells": [
  {
   "cell_type": "markdown",
   "metadata": {},
   "source": [
    "1a) Check out the hepatitis dataset from the UCI ML repository and read the description. This dataset contains missing values in categorical and continuous features. The files are also available in the /data folder. \n",
    "\n",
    "https://archive.ics.uci.edu/ml/datasets/hepatitis\n",
    "\n",
    "Read in hepatitis.data into a pandas data frames with column names. (1 point)\n",
    "\n",
    "Encode the missing categories as 'missing' using the SimpleImputer, and preprocess the categotical features with the OneHot Encoder. (3 points)\n",
    "\n",
    "Preprocess the target variable ('Class'). (2 points)\n"
   ]
  },
  {
   "cell_type": "code",
   "execution_count": 1,
   "metadata": {},
   "outputs": [],
   "source": [
    "import pandas as pd\n",
    "import numpy  as np\n",
    "from sklearn.preprocessing import OneHotEncoder\n",
    "from sklearn.preprocessing import LabelEncoder\n",
    "from sklearn.preprocessing import OrdinalEncoder\n",
    "from sklearn.preprocessing import StandardScaler\n",
    "from sklearn.experimental import enable_iterative_imputer\n",
    "from sklearn.impute import SimpleImputer\n",
    "from sklearn.impute import IterativeImputer\n",
    "from sklearn.ensemble import RandomForestRegressor"
   ]
  },
  {
   "cell_type": "code",
   "execution_count": 2,
   "metadata": {},
   "outputs": [
    {
     "data": {
      "text/html": [
       "<div>\n",
       "<style scoped>\n",
       "    .dataframe tbody tr th:only-of-type {\n",
       "        vertical-align: middle;\n",
       "    }\n",
       "\n",
       "    .dataframe tbody tr th {\n",
       "        vertical-align: top;\n",
       "    }\n",
       "\n",
       "    .dataframe thead th {\n",
       "        text-align: right;\n",
       "    }\n",
       "</style>\n",
       "<table border=\"1\" class=\"dataframe\">\n",
       "  <thead>\n",
       "    <tr style=\"text-align: right;\">\n",
       "      <th></th>\n",
       "      <th>SEX_1</th>\n",
       "      <th>SEX_2</th>\n",
       "      <th>STEROID_1</th>\n",
       "      <th>STEROID_2</th>\n",
       "      <th>STEROID_missing</th>\n",
       "      <th>ANTIVIRALS_1</th>\n",
       "      <th>ANTIVIRALS_2</th>\n",
       "      <th>FATIGUE_1</th>\n",
       "      <th>FATIGUE_2</th>\n",
       "      <th>FATIGUE_missing</th>\n",
       "      <th>...</th>\n",
       "      <th>SPIDERS_2</th>\n",
       "      <th>SPIDERS_missing</th>\n",
       "      <th>ASCITES_1</th>\n",
       "      <th>ASCITES_2</th>\n",
       "      <th>ASCITES_missing</th>\n",
       "      <th>VARICES_1</th>\n",
       "      <th>VARICES_2</th>\n",
       "      <th>VARICES_missing</th>\n",
       "      <th>HISTOLOGY_1</th>\n",
       "      <th>HISTOLOGY_2</th>\n",
       "    </tr>\n",
       "  </thead>\n",
       "  <tbody>\n",
       "    <tr>\n",
       "      <th>0</th>\n",
       "      <td>0.0</td>\n",
       "      <td>1.0</td>\n",
       "      <td>1.0</td>\n",
       "      <td>0.0</td>\n",
       "      <td>0.0</td>\n",
       "      <td>0.0</td>\n",
       "      <td>1.0</td>\n",
       "      <td>0.0</td>\n",
       "      <td>1.0</td>\n",
       "      <td>0.0</td>\n",
       "      <td>...</td>\n",
       "      <td>1.0</td>\n",
       "      <td>0.0</td>\n",
       "      <td>0.0</td>\n",
       "      <td>1.0</td>\n",
       "      <td>0.0</td>\n",
       "      <td>0.0</td>\n",
       "      <td>1.0</td>\n",
       "      <td>0.0</td>\n",
       "      <td>1.0</td>\n",
       "      <td>0.0</td>\n",
       "    </tr>\n",
       "    <tr>\n",
       "      <th>1</th>\n",
       "      <td>1.0</td>\n",
       "      <td>0.0</td>\n",
       "      <td>1.0</td>\n",
       "      <td>0.0</td>\n",
       "      <td>0.0</td>\n",
       "      <td>0.0</td>\n",
       "      <td>1.0</td>\n",
       "      <td>1.0</td>\n",
       "      <td>0.0</td>\n",
       "      <td>0.0</td>\n",
       "      <td>...</td>\n",
       "      <td>1.0</td>\n",
       "      <td>0.0</td>\n",
       "      <td>0.0</td>\n",
       "      <td>1.0</td>\n",
       "      <td>0.0</td>\n",
       "      <td>0.0</td>\n",
       "      <td>1.0</td>\n",
       "      <td>0.0</td>\n",
       "      <td>1.0</td>\n",
       "      <td>0.0</td>\n",
       "    </tr>\n",
       "    <tr>\n",
       "      <th>2</th>\n",
       "      <td>1.0</td>\n",
       "      <td>0.0</td>\n",
       "      <td>0.0</td>\n",
       "      <td>1.0</td>\n",
       "      <td>0.0</td>\n",
       "      <td>0.0</td>\n",
       "      <td>1.0</td>\n",
       "      <td>1.0</td>\n",
       "      <td>0.0</td>\n",
       "      <td>0.0</td>\n",
       "      <td>...</td>\n",
       "      <td>1.0</td>\n",
       "      <td>0.0</td>\n",
       "      <td>0.0</td>\n",
       "      <td>1.0</td>\n",
       "      <td>0.0</td>\n",
       "      <td>0.0</td>\n",
       "      <td>1.0</td>\n",
       "      <td>0.0</td>\n",
       "      <td>1.0</td>\n",
       "      <td>0.0</td>\n",
       "    </tr>\n",
       "    <tr>\n",
       "      <th>3</th>\n",
       "      <td>1.0</td>\n",
       "      <td>0.0</td>\n",
       "      <td>0.0</td>\n",
       "      <td>0.0</td>\n",
       "      <td>1.0</td>\n",
       "      <td>1.0</td>\n",
       "      <td>0.0</td>\n",
       "      <td>0.0</td>\n",
       "      <td>1.0</td>\n",
       "      <td>0.0</td>\n",
       "      <td>...</td>\n",
       "      <td>1.0</td>\n",
       "      <td>0.0</td>\n",
       "      <td>0.0</td>\n",
       "      <td>1.0</td>\n",
       "      <td>0.0</td>\n",
       "      <td>0.0</td>\n",
       "      <td>1.0</td>\n",
       "      <td>0.0</td>\n",
       "      <td>1.0</td>\n",
       "      <td>0.0</td>\n",
       "    </tr>\n",
       "    <tr>\n",
       "      <th>4</th>\n",
       "      <td>1.0</td>\n",
       "      <td>0.0</td>\n",
       "      <td>0.0</td>\n",
       "      <td>1.0</td>\n",
       "      <td>0.0</td>\n",
       "      <td>0.0</td>\n",
       "      <td>1.0</td>\n",
       "      <td>0.0</td>\n",
       "      <td>1.0</td>\n",
       "      <td>0.0</td>\n",
       "      <td>...</td>\n",
       "      <td>1.0</td>\n",
       "      <td>0.0</td>\n",
       "      <td>0.0</td>\n",
       "      <td>1.0</td>\n",
       "      <td>0.0</td>\n",
       "      <td>0.0</td>\n",
       "      <td>1.0</td>\n",
       "      <td>0.0</td>\n",
       "      <td>1.0</td>\n",
       "      <td>0.0</td>\n",
       "    </tr>\n",
       "  </tbody>\n",
       "</table>\n",
       "<p>5 rows × 36 columns</p>\n",
       "</div>"
      ],
      "text/plain": [
       "   SEX_1  SEX_2  STEROID_1  STEROID_2  STEROID_missing  ANTIVIRALS_1  \\\n",
       "0    0.0    1.0        1.0        0.0              0.0           0.0   \n",
       "1    1.0    0.0        1.0        0.0              0.0           0.0   \n",
       "2    1.0    0.0        0.0        1.0              0.0           0.0   \n",
       "3    1.0    0.0        0.0        0.0              1.0           1.0   \n",
       "4    1.0    0.0        0.0        1.0              0.0           0.0   \n",
       "\n",
       "   ANTIVIRALS_2  FATIGUE_1  FATIGUE_2  FATIGUE_missing  ...  SPIDERS_2  \\\n",
       "0           1.0        0.0        1.0              0.0  ...        1.0   \n",
       "1           1.0        1.0        0.0              0.0  ...        1.0   \n",
       "2           1.0        1.0        0.0              0.0  ...        1.0   \n",
       "3           0.0        0.0        1.0              0.0  ...        1.0   \n",
       "4           1.0        0.0        1.0              0.0  ...        1.0   \n",
       "\n",
       "   SPIDERS_missing  ASCITES_1  ASCITES_2  ASCITES_missing  VARICES_1  \\\n",
       "0              0.0        0.0        1.0              0.0        0.0   \n",
       "1              0.0        0.0        1.0              0.0        0.0   \n",
       "2              0.0        0.0        1.0              0.0        0.0   \n",
       "3              0.0        0.0        1.0              0.0        0.0   \n",
       "4              0.0        0.0        1.0              0.0        0.0   \n",
       "\n",
       "   VARICES_2  VARICES_missing  HISTOLOGY_1  HISTOLOGY_2  \n",
       "0        1.0              0.0          1.0          0.0  \n",
       "1        1.0              0.0          1.0          0.0  \n",
       "2        1.0              0.0          1.0          0.0  \n",
       "3        1.0              0.0          1.0          0.0  \n",
       "4        1.0              0.0          1.0          0.0  \n",
       "\n",
       "[5 rows x 36 columns]"
      ]
     },
     "execution_count": 2,
     "metadata": {},
     "output_type": "execute_result"
    }
   ],
   "source": [
    "# insert your code here\n",
    "column_name = ['Class','AGE','SEX','STEROID','ANTIVIRALS','FATIGUE','MALAISE','ANOREXIA',\n",
    "               'LIVER BIG', 'LIVER FIRM','SPLEEN PALPABLE', 'SPIDERS','ASCITES', 'VARICES',\n",
    "               'BILIRUBIN','ALK PHOSPHATE', 'SGOT','ALBUMIN','PROTIME','HISTOLOGY']\n",
    "df = pd.read_csv('data/hepatitis.data', names = column_name)\n",
    "\n",
    "# Encode the missing categories as 'missing' using the SimpleImputer\n",
    "# preprocess the categotical features with the OneHot Encoder\n",
    "ohe = OneHotEncoder(sparse=False, handle_unknown='ignore')\n",
    "si = SimpleImputer(missing_values = '?', strategy='constant',fill_value='missing')\n",
    "ohe_name = ['SEX','STEROID','ANTIVIRALS','FATIGUE','MALAISE','ANOREXIA',\n",
    "              'LIVER BIG','LIVER FIRM','SPLEEN PALPABLE','SPIDERS','ASCITES','VARICES',\n",
    "              'HISTOLOGY']\n",
    "ohe_value = ohe.fit_transform(si.fit_transform(df[ohe_name]))\n",
    "ohe_ftr_names = ohe.get_feature_names(ohe_name)\n",
    "df_ohe = pd.DataFrame(data=ohe_value,columns = ohe_ftr_names)\n",
    "df_ohe.head()"
   ]
  },
  {
   "cell_type": "code",
   "execution_count": 3,
   "metadata": {},
   "outputs": [
    {
     "data": {
      "text/html": [
       "<div>\n",
       "<style scoped>\n",
       "    .dataframe tbody tr th:only-of-type {\n",
       "        vertical-align: middle;\n",
       "    }\n",
       "\n",
       "    .dataframe tbody tr th {\n",
       "        vertical-align: top;\n",
       "    }\n",
       "\n",
       "    .dataframe thead th {\n",
       "        text-align: right;\n",
       "    }\n",
       "</style>\n",
       "<table border=\"1\" class=\"dataframe\">\n",
       "  <thead>\n",
       "    <tr style=\"text-align: right;\">\n",
       "      <th></th>\n",
       "      <th>Class</th>\n",
       "    </tr>\n",
       "  </thead>\n",
       "  <tbody>\n",
       "    <tr>\n",
       "      <th>0</th>\n",
       "      <td>1</td>\n",
       "    </tr>\n",
       "    <tr>\n",
       "      <th>1</th>\n",
       "      <td>1</td>\n",
       "    </tr>\n",
       "    <tr>\n",
       "      <th>2</th>\n",
       "      <td>1</td>\n",
       "    </tr>\n",
       "    <tr>\n",
       "      <th>3</th>\n",
       "      <td>1</td>\n",
       "    </tr>\n",
       "    <tr>\n",
       "      <th>4</th>\n",
       "      <td>1</td>\n",
       "    </tr>\n",
       "  </tbody>\n",
       "</table>\n",
       "</div>"
      ],
      "text/plain": [
       "   Class\n",
       "0      1\n",
       "1      1\n",
       "2      1\n",
       "3      1\n",
       "4      1"
      ]
     },
     "execution_count": 3,
     "metadata": {},
     "output_type": "execute_result"
    }
   ],
   "source": [
    "# Preprocess the target variable ('Class')\n",
    "le = LabelEncoder()\n",
    "le_value = le.fit_transform(df[['Class']].values.ravel())\n",
    "target_v = pd.DataFrame(le_value, columns = ['Class'])\n",
    "target_v.head()"
   ]
  },
  {
   "cell_type": "markdown",
   "metadata": {},
   "source": [
    "1b) \n",
    "\n",
    "Replace the missing values ('?') with np.nan in the continuous features. (2 points)\n",
    "\n",
    "Apply multivariate imputation to the preprocessed dataframe, create five different imputed datasets, and save them as csv files. (4 points)"
   ]
  },
  {
   "cell_type": "code",
   "execution_count": 4,
   "metadata": {},
   "outputs": [
    {
     "data": {
      "text/html": [
       "<div>\n",
       "<style scoped>\n",
       "    .dataframe tbody tr th:only-of-type {\n",
       "        vertical-align: middle;\n",
       "    }\n",
       "\n",
       "    .dataframe tbody tr th {\n",
       "        vertical-align: top;\n",
       "    }\n",
       "\n",
       "    .dataframe thead th {\n",
       "        text-align: right;\n",
       "    }\n",
       "</style>\n",
       "<table border=\"1\" class=\"dataframe\">\n",
       "  <thead>\n",
       "    <tr style=\"text-align: right;\">\n",
       "      <th></th>\n",
       "      <th>AGE</th>\n",
       "      <th>BILIRUBIN</th>\n",
       "      <th>ALK PHOSPHATE</th>\n",
       "      <th>SGOT</th>\n",
       "      <th>ALBUMIN</th>\n",
       "      <th>PROTIME</th>\n",
       "    </tr>\n",
       "  </thead>\n",
       "  <tbody>\n",
       "    <tr>\n",
       "      <th>0</th>\n",
       "      <td>30</td>\n",
       "      <td>1.00</td>\n",
       "      <td>85</td>\n",
       "      <td>18</td>\n",
       "      <td>4.0</td>\n",
       "      <td>NaN</td>\n",
       "    </tr>\n",
       "    <tr>\n",
       "      <th>1</th>\n",
       "      <td>50</td>\n",
       "      <td>0.90</td>\n",
       "      <td>135</td>\n",
       "      <td>42</td>\n",
       "      <td>3.5</td>\n",
       "      <td>NaN</td>\n",
       "    </tr>\n",
       "    <tr>\n",
       "      <th>2</th>\n",
       "      <td>78</td>\n",
       "      <td>0.70</td>\n",
       "      <td>96</td>\n",
       "      <td>32</td>\n",
       "      <td>4.0</td>\n",
       "      <td>NaN</td>\n",
       "    </tr>\n",
       "    <tr>\n",
       "      <th>3</th>\n",
       "      <td>31</td>\n",
       "      <td>0.70</td>\n",
       "      <td>46</td>\n",
       "      <td>52</td>\n",
       "      <td>4.0</td>\n",
       "      <td>80</td>\n",
       "    </tr>\n",
       "    <tr>\n",
       "      <th>4</th>\n",
       "      <td>34</td>\n",
       "      <td>1.00</td>\n",
       "      <td>NaN</td>\n",
       "      <td>200</td>\n",
       "      <td>4.0</td>\n",
       "      <td>NaN</td>\n",
       "    </tr>\n",
       "  </tbody>\n",
       "</table>\n",
       "</div>"
      ],
      "text/plain": [
       "   AGE BILIRUBIN ALK PHOSPHATE SGOT ALBUMIN PROTIME\n",
       "0   30      1.00            85   18     4.0     NaN\n",
       "1   50      0.90           135   42     3.5     NaN\n",
       "2   78      0.70            96   32     4.0     NaN\n",
       "3   31      0.70            46   52     4.0      80\n",
       "4   34      1.00           NaN  200     4.0     NaN"
      ]
     },
     "execution_count": 4,
     "metadata": {},
     "output_type": "execute_result"
    }
   ],
   "source": [
    "# insert your code here\n",
    "# Replace the missing values ('?') with np.nan in the continuous features\n",
    "num_name = ['AGE','BILIRUBIN','ALK PHOSPHATE', 'SGOT','ALBUMIN','PROTIME']\n",
    "df_num = df[num_name].replace('?',np.NaN)\n",
    "df_num.head()"
   ]
  },
  {
   "cell_type": "code",
   "execution_count": 5,
   "metadata": {},
   "outputs": [
    {
     "name": "stderr",
     "output_type": "stream",
     "text": [
      "/opt/conda/lib/python3.7/site-packages/sklearn/impute/_iterative.py:603: ConvergenceWarning: [IterativeImputer] Early stopping criterion not reached.\n",
      "  \" reached.\", ConvergenceWarning)\n",
      "/opt/conda/lib/python3.7/site-packages/sklearn/impute/_iterative.py:603: ConvergenceWarning: [IterativeImputer] Early stopping criterion not reached.\n",
      "  \" reached.\", ConvergenceWarning)\n",
      "/opt/conda/lib/python3.7/site-packages/sklearn/impute/_iterative.py:603: ConvergenceWarning: [IterativeImputer] Early stopping criterion not reached.\n",
      "  \" reached.\", ConvergenceWarning)\n",
      "/opt/conda/lib/python3.7/site-packages/sklearn/impute/_iterative.py:603: ConvergenceWarning: [IterativeImputer] Early stopping criterion not reached.\n",
      "  \" reached.\", ConvergenceWarning)\n",
      "/opt/conda/lib/python3.7/site-packages/sklearn/impute/_iterative.py:603: ConvergenceWarning: [IterativeImputer] Early stopping criterion not reached.\n",
      "  \" reached.\", ConvergenceWarning)\n"
     ]
    }
   ],
   "source": [
    "df_new = pd.concat([df_ohe, df_num], axis = 1)\n",
    "clms = df_new.columns\n",
    "\n",
    "X = df_new[clms].values\n",
    "\n",
    "for i in range(5):\n",
    "    imputer = IterativeImputer(estimator = RandomForestRegressor(n_estimators = 100),random_state=i)\n",
    "    X_impute = imputer.fit_transform(X)\n",
    "    X_df = pd.DataFrame(X_impute)\n",
    "    df_n = pd.concat([X_df, target_v], axis = 1)\n",
    "    file_name = '1b_' + str(i) + '.csv'\n",
    "    df_n.to_csv(file_name)"
   ]
  },
  {
   "cell_type": "markdown",
   "metadata": {},
   "source": [
    "Problem 1a: Please load one of the imputed hepatitis datasets you created in HW2. You can also use the file in /data/hepatitis_imputed_0.csv if you prefer.\n",
    "\n",
    "Apply PCA to the feature matrix (exclude the target variable 'Class'), transform the data, print the first two principal component coordinates of the first 5 data points. (4 points)\n",
    "\n",
    "Please prepare a scatter plot that shows the first two components on the x and y axes of the figure, and the color of the points illustrate the class of the data points. (2 points)\n",
    "\n",
    "How much varience is retained by the first two components? (2 points)\n",
    "\n",
    "How many components should we keep to retain at least 99% of the variance? (2 points)"
   ]
  },
  {
   "cell_type": "code",
   "execution_count": 7,
   "metadata": {},
   "outputs": [],
   "source": [
    "import pandas as pd\n",
    "from sklearn.experimental import enable_iterative_imputer\n",
    "from sklearn.impute import IterativeImputer\n",
    "from sklearn.ensemble import RandomForestRegressor\n",
    "from sklearn.linear_model import LinearRegression\n",
    "from sklearn.decomposition import PCA\n",
    "import numpy as np\n",
    "import matplotlib.pyplot as plt"
   ]
  },
  {
   "cell_type": "markdown",
   "metadata": {},
   "source": [
    "**Apply PCA to the feature matrix (exclude the target variable 'Class'), transform the data, print the first two principal component coordinates of the first 5 data points.**"
   ]
  },
  {
   "cell_type": "code",
   "execution_count": 8,
   "metadata": {},
   "outputs": [
    {
     "data": {
      "text/plain": [
       "array([[-73.12352385,  -8.69313643],\n",
       "       [-39.01627001,  38.67189085],\n",
       "       [-56.03730274,   1.84535739],\n",
       "       [-46.58642787, -52.76043824],\n",
       "       [103.75950366, -55.54187772]])"
      ]
     },
     "execution_count": 8,
     "metadata": {},
     "output_type": "execute_result"
    }
   ],
   "source": [
    "df = pd.read_csv(\"data/hepatitis_imputed_0.csv\")\n",
    "# df.head()\n",
    "y = df['Class']\n",
    "df_new = df.drop(columns=['Class'], inplace = False)\n",
    "\n",
    "pca = PCA(n_components=df_new.shape[1])\n",
    "X_pca = pca.fit_transform(df_new)\n",
    "X_pca[:5, :2]"
   ]
  },
  {
   "cell_type": "markdown",
   "metadata": {},
   "source": [
    "**Please prepare a scatter plot that shows the first two components on the x and y axes of the figure, and the color of the points illustrate the class of the data points. (2 points)**"
   ]
  },
  {
   "cell_type": "code",
   "execution_count": 9,
   "metadata": {},
   "outputs": [
    {
     "data": {
      "text/plain": [
       "<function matplotlib.pyplot.show(*args, **kw)>"
      ]
     },
     "execution_count": 9,
     "metadata": {},
     "output_type": "execute_result"
    },
    {
     "data": {
      "image/png": "[encoded data removed]",
      "text/plain": [
       "<Figure size 432x288 with 1 Axes>"
      ]
     },
     "metadata": {
      "needs_background": "light"
     },
     "output_type": "display_data"
    }
   ],
   "source": [
    "X_df = pd.DataFrame(X_pca)\n",
    "x_scatter = X_df[0]\n",
    "y_scatter = X_df[1]\n",
    "plt.scatter(x_scatter, y_scatter, alpha = 0.5, c = y)\n",
    "plt.axis('equal')\n",
    "plt.show"
   ]
  },
  {
   "cell_type": "markdown",
   "metadata": {},
   "source": [
    "**How much varience is retained by the first two components? (2 points)**"
   ]
  },
  {
   "cell_type": "code",
   "execution_count": 10,
   "metadata": {},
   "outputs": [
    {
     "data": {
      "text/plain": [
       "0.9529446017988041"
      ]
     },
     "execution_count": 10,
     "metadata": {},
     "output_type": "execute_result"
    }
   ],
   "source": [
    "sum(pca.explained_variance_ratio_[:2])"
   ]
  },
  {
   "cell_type": "markdown",
   "metadata": {},
   "source": [
    "**How many components should we keep to retain at least 99% of the variance? (2 points)**"
   ]
  },
  {
   "cell_type": "code",
   "execution_count": 12,
   "metadata": {},
   "outputs": [
    {
     "data": {
      "text/plain": [
       "4"
      ]
     },
     "execution_count": 12,
     "metadata": {},
     "output_type": "execute_result"
    }
   ],
   "source": [
    "sum(np.cumsum(pca.explained_variance_ratio_) < 0.99) + 1"
   ]
  },
  {
   "cell_type": "markdown",
   "metadata": {},
   "source": [
    "**1b) Open the hepatitis csv file. Please note that the continuous features are not scaled! Scale the continuous features (2 points) and repeat the PCA analysis you just performed in 1a on the preprocessed dataset (0 points).**"
   ]
  },
  {
   "cell_type": "code",
   "execution_count": 13,
   "metadata": {},
   "outputs": [],
   "source": [
    "from sklearn.preprocessing import StandardScaler"
   ]
  },
  {
   "cell_type": "code",
   "execution_count": 14,
   "metadata": {},
   "outputs": [],
   "source": [
    "num_ftrs = ['AGE', 'BILIRUBIN', 'ALK PHOSPHATE', 'SGOT', 'ALBUMIN', 'PROTIME']\n",
    "ss = StandardScaler()\n",
    "num_values = ss.fit_transform(df[num_ftrs])\n",
    "df_num = pd.DataFrame(data=num_values,columns = num_ftrs)\n",
    "df_remain = df[['x0_1', 'x0_2', 'x1_1', 'x1_2', 'x1_missing', 'x2_1', 'x2_2', 'x3_1',\n",
    "       'x3_2', 'x3_missing', 'x4_1', 'x4_2', 'x4_missing', 'x5_1', 'x5_2',\n",
    "       'x5_missing', 'x6_1', 'x6_2', 'x6_missing', 'x7_1', 'x7_2',\n",
    "       'x7_missing', 'x8_1', 'x8_2', 'x8_missing', 'x9_1', 'x9_2',\n",
    "       'x9_missing', 'x10_1', 'x10_2', 'x10_missing', 'x11_1', 'x11_2',\n",
    "       'x11_missing', 'x12_1', 'x12_2']]\n",
    "df_pre = pd.concat([df_remain, df_num, df['Class']], axis = 1)"
   ]
  },
  {
   "cell_type": "code",
   "execution_count": 15,
   "metadata": {},
   "outputs": [
    {
     "data": {
      "text/plain": [
       "array([[-1.8258188 ,  0.19729835],\n",
       "       [ 0.06564394, -0.96036384],\n",
       "       [-0.56164936, -2.42034047],\n",
       "       [-2.2757841 ,  0.01859807],\n",
       "       [-1.27538442,  0.89690843]])"
      ]
     },
     "execution_count": 15,
     "metadata": {},
     "output_type": "execute_result"
    }
   ],
   "source": [
    "y = df_pre['Class']\n",
    "df_p_new = df_pre.drop(columns=['Class'], inplace = False)\n",
    "\n",
    "pca_n = PCA(n_components=df_p_new.shape[1])\n",
    "X_pca_n = pca_n.fit_transform(df_p_new)\n",
    "X_pca_n[:5, :2]"
   ]
  },
  {
   "cell_type": "code",
   "execution_count": 16,
   "metadata": {},
   "outputs": [
    {
     "data": {
      "text/plain": [
       "<function matplotlib.pyplot.show(*args, **kw)>"
      ]
     },
     "execution_count": 16,
     "metadata": {},
     "output_type": "execute_result"
    },
    {
     "data": {
      "image/png": "[encoded data removed]",
      "text/plain": [
       "<Figure size 432x288 with 1 Axes>"
      ]
     },
     "metadata": {
      "needs_background": "light"
     },
     "output_type": "display_data"
    }
   ],
   "source": [
    "X_df_n = pd.DataFrame(X_pca_n)\n",
    "x_scatter = X_df_n[0]\n",
    "y_scatter = X_df_n[1]\n",
    "plt.scatter(x_scatter, y_scatter, alpha = 0.5, c = y)\n",
    "plt.axis('equal')\n",
    "plt.show"
   ]
  },
  {
   "cell_type": "code",
   "execution_count": 17,
   "metadata": {},
   "outputs": [
    {
     "name": "stdout",
     "output_type": "stream",
     "text": [
      "0.3754932506507792\n",
      "20\n"
     ]
    },
    {
     "data": {
      "image/png": "[encoded data removed]",
      "text/plain": [
       "<Figure size 432x288 with 1 Axes>"
      ]
     },
     "metadata": {
      "needs_background": "light"
     },
     "output_type": "display_data"
    }
   ],
   "source": [
    "print(sum(pca_n.explained_variance_ratio_[:2]))\n",
    "print(sum(np.cumsum(pca_n.explained_variance_ratio_) < 0.99)+1)\n",
    "\n",
    "plt.plot(np.cumsum(pca_n.explained_variance_ratio_))\n",
    "plt.xlabel('Nr. components')\n",
    "plt.ylabel('variance explained')\n",
    "plt.show()"
   ]
  },
  {
   "cell_type": "markdown",
   "metadata": {},
   "source": [
    "**PCA is one of the ML algorithms for which preprocessing is crucial! PCA will not give you an error message if you apply it to unprocessed data but the results will be weird. Your data needs to be preprocessed and scaled before you apply PCA on it. Please write 1-2 paragraphs describing the differences you observe in the 1a and 1b results and figures and explain why preprocessing changed the results so much. (4 points)**  "
   ]
  },
  {
   "cell_type": "markdown",
   "metadata": {},
   "source": [
    "**Explaination:**   \n",
    "\n",
    "![pic](explain.png)\n"
   ]
  },
  {
   "cell_type": "code",
   "execution_count": null,
   "metadata": {},
   "outputs": [],
   "source": []
  }
 ],
 "metadata": {
  "kernelspec": {
   "display_name": "Python 3",
   "language": "python",
   "name": "python3"
  },
  "language_info": {
   "codemirror_mode": {
    "name": "ipython",
    "version": 3
   },
   "file_extension": ".py",
   "mimetype": "text/x-python",
   "name": "python",
   "nbconvert_exporter": "python",
   "pygments_lexer": "ipython3",
   "version": "3.7.3"
  }
 },
 "nbformat": 4,
 "nbformat_minor": 4
}
