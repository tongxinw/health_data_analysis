{
 "cells": [
  {
   "cell_type": "code",
   "execution_count": 8,
   "metadata": {},
   "outputs": [],
   "source": [
    "# from the pymice package \n",
    "# https://github.com/RianneSchouten/pymice\n",
    "\n",
    "import numpy as np\n",
    "import pandas as pd\n",
    "import math as ma\n",
    "import scipy.stats as st\n",
    "import seaborn as sns\n",
    "\n",
    "def checks_input_mcar_tests(data):\n",
    "    \"\"\" Checks whether the input parameter of class McarTests is correct\n",
    "            Parameters\n",
    "            ----------\n",
    "            data:\n",
    "                The input of McarTests specified as 'data'\n",
    "            Returns\n",
    "            -------\n",
    "            bool\n",
    "                True if input is correct\n",
    "            \"\"\"\n",
    "\n",
    "    if not isinstance(data, pd.DataFrame):\n",
    "        print(\"Error: Data should be a Pandas DataFrame\")\n",
    "        return False\n",
    "\n",
    "    if not any(data.dtypes.values == np.float):\n",
    "        if not any(data.dtypes.values == np.int):\n",
    "            print(\"Error: Dataset cannot contain other value types than floats and/or integers\")\n",
    "            return False\n",
    "\n",
    "    if not data.isnull().values.any():\n",
    "        print(\"Error: No NaN's in given data\")\n",
    "        return False\n",
    "\n",
    "    return True\n",
    "\n",
    "\n",
    "def mcar_test(data):\n",
    "    \"\"\" Implementation of Little's MCAR test\n",
    "    Parameters\n",
    "    ----------\n",
    "    data: Pandas DataFrame\n",
    "        An incomplete dataset with samples as index and variables as columns\n",
    "    Returns\n",
    "    -------\n",
    "    p_value: Float\n",
    "        This value is the outcome of a chi-square statistical test, testing whether the null hypothesis\n",
    "        'the missingness mechanism of the incomplete dataset is MCAR' can be rejected.\n",
    "    \"\"\"\n",
    "\n",
    "    if not checks_input_mcar_tests(data):\n",
    "        raise Exception(\"Input not correct\")\n",
    "\n",
    "    dataset = data.copy()\n",
    "    vars = dataset.dtypes.index.values\n",
    "    n_var = dataset.shape[1]\n",
    "\n",
    "    # mean and covariance estimates\n",
    "    # ideally, this is done with a maximum likelihood estimator\n",
    "    gmean = dataset.mean()\n",
    "    gcov = dataset.cov()\n",
    "\n",
    "    # set up missing data patterns\n",
    "    r = 1 * dataset.isnull()\n",
    "    mdp = np.dot(r, list(map(lambda x: ma.pow(2, x), range(n_var))))\n",
    "    sorted_mdp = sorted(np.unique(mdp))\n",
    "    n_pat = len(sorted_mdp)\n",
    "    correct_mdp = list(map(lambda x: sorted_mdp.index(x), mdp))\n",
    "    dataset['mdp'] = pd.Series(correct_mdp, index=dataset.index)\n",
    "\n",
    "    # calculate statistic and df\n",
    "    pj = 0\n",
    "    d2 = 0\n",
    "    for i in range(n_pat):\n",
    "        dataset_temp = dataset.loc[dataset['mdp'] == i, vars]\n",
    "        select_vars = ~dataset_temp.isnull().any()\n",
    "        pj += np.sum(select_vars)\n",
    "        select_vars = vars[select_vars]\n",
    "        means = dataset_temp[select_vars].mean() - gmean[select_vars]\n",
    "        select_cov = gcov.loc[select_vars, select_vars]\n",
    "        mj = len(dataset_temp)\n",
    "        parta = np.dot(means.T, np.linalg.solve(select_cov, np.identity(select_cov.shape[1])))\n",
    "        d2 += mj * (np.dot(parta, means))\n",
    "\n",
    "    df = pj - n_var\n",
    "\n",
    "    # perform test and save output\n",
    "    p_value = 1 - st.chi2.cdf(d2, df)\n",
    "\n",
    "    return p_value"
   ]
  },
  {
   "cell_type": "markdown",
   "metadata": {},
   "source": [
    "You will work with a classification dataset on heart disease. \n",
    "\n",
    "Please check the description (heart-disease.names) and the data (cleveland.data) in the data folder.\n",
    "\n",
    "The code below is provided to load the data into a data frame."
   ]
  },
  {
   "cell_type": "code",
   "execution_count": 1,
   "metadata": {},
   "outputs": [],
   "source": [
    "from sklearn.preprocessing import OneHotEncoder\n",
    "from sklearn.preprocessing import OrdinalEncoder\n",
    "from sklearn.preprocessing import StandardScaler\n",
    "from sklearn.impute import SimpleImputer\n",
    "from sklearn.preprocessing import LabelEncoder\n",
    "import matplotlib\n",
    "from matplotlib import pylab as plt"
   ]
  },
  {
   "cell_type": "code",
   "execution_count": 2,
   "metadata": {},
   "outputs": [
    {
     "name": "stdout",
     "output_type": "stream",
     "text": [
      "    age  sex   cp  trestbps   chol  fbs  restecg  thalach  exang  oldpeak  \\\n",
      "0  63.0  1.0  1.0     145.0  233.0  1.0      2.0    150.0    0.0      2.3   \n",
      "1  67.0  1.0  4.0     160.0  286.0  0.0      2.0    108.0    1.0      1.5   \n",
      "2  67.0  1.0  4.0     120.0  229.0  0.0      2.0    129.0    1.0      2.6   \n",
      "3  37.0  1.0  3.0     130.0  250.0  0.0      0.0    187.0    0.0      3.5   \n",
      "4  41.0  0.0  2.0     130.0  204.0  0.0      2.0    172.0    0.0      1.4   \n",
      "\n",
      "   slope   ca  thal  num  \n",
      "0    3.0  0.0   6.0  0.0  \n",
      "1    2.0  3.0   3.0  2.0  \n",
      "2    2.0  2.0   7.0  1.0  \n",
      "3    3.0  0.0   3.0  0.0  \n",
      "4    1.0  0.0   3.0  0.0  \n"
     ]
    }
   ],
   "source": [
    "import pandas as pd\n",
    "import numpy  as np\n",
    "\n",
    "# Let's load the data\n",
    "feature_names = ['age','sex','cp','trestbps','chol','fbs','restecg','thalach',\\\n",
    "                'exang','oldpeak','slope','ca','thal']\n",
    "label = 'num'\n",
    "df = pd.read_csv('data/cleveland.data',header=None)\n",
    "df.columns = feature_names + [label]\n",
    "\n",
    "df.replace(to_replace='?',value = np.nan, inplace=True) # replace '?' with nans\n",
    "\n",
    "df = df.astype(float) # column types need to be numeric for the mcar_test to work\n",
    "\n",
    "print(df.head())"
   ]
  },
  {
   "cell_type": "markdown",
   "metadata": {},
   "source": [
    "Problem 1 (4 points):\n",
    "\n",
    "Please handle the missing values in the data and justify your decision. If you decide to drop the points with missing values, please use `.reset_index(drop=True, inplace=True)` on your dataframe after droping the rows to avoid any issues with the index column down the road."
   ]
  },
  {
   "cell_type": "code",
   "execution_count": 3,
   "metadata": {},
   "outputs": [
    {
     "name": "stdout",
     "output_type": "stream",
     "text": [
      "age         0.000000\n",
      "sex         0.000000\n",
      "cp          0.000000\n",
      "trestbps    0.000000\n",
      "chol        0.000000\n",
      "fbs         0.000000\n",
      "restecg     0.000000\n",
      "thalach     0.000000\n",
      "exang       0.000000\n",
      "oldpeak     0.000000\n",
      "slope       0.000000\n",
      "ca          0.013201\n",
      "thal        0.006601\n",
      "num         0.000000\n",
      "dtype: float64\n",
      "0.019801980198019802\n"
     ]
    }
   ],
   "source": [
    "# print(df.shape)\n",
    "print(df.isnull().sum(axis=0)/df.shape[0])\n",
    "print(sum(df.isnull().sum(axis=1)!=0)/df.shape[0])"
   ]
  },
  {
   "cell_type": "markdown",
   "metadata": {},
   "source": [
    "**Solution:**   \n",
    "As we can see in the description of the data file, both 'ca' and 'thal' are categorical features. Since they are the only two feature contains missing values, we can treat the missing values as one separate category of each. Since the catagories are represented by integers and none of the categories is 9, we define the missing catagory as 9. For preprocessing the missing values, we deal it with the one-hot encoder, so the missing value will be handled in problem 2. "
   ]
  },
  {
   "cell_type": "markdown",
   "metadata": {},
   "source": [
    "Problem 2: (8 points)\n",
    "\n",
    "Please preprocess the features. If you can't complete this within 30 min, move on to problems 3 and 4. If preprocessing is not completed, you can still get full points for problems 3 and 4."
   ]
  },
  {
   "cell_type": "code",
   "execution_count": 4,
   "metadata": {},
   "outputs": [],
   "source": [
    "cat_ftrs = ['sex', 'cp', 'fbs', 'restecg','exang','slope', 'ca', 'thal']\n",
    "num_ftrs = ['age', 'trestbps','chol','thalach','oldpeak']\n",
    "label = ['num']"
   ]
  },
  {
   "cell_type": "code",
   "execution_count": 5,
   "metadata": {},
   "outputs": [
    {
     "name": "stdout",
     "output_type": "stream",
     "text": [
      "(303, 31)\n"
     ]
    },
    {
     "name": "stderr",
     "output_type": "stream",
     "text": [
      "/opt/conda/lib/python3.7/site-packages/sklearn/preprocessing/_encoders.py:415: FutureWarning: The handling of integer data will change in version 0.22. Currently, the categories are determined based on the range [0, max(values)], while in the future they will be determined based on the unique values.\n",
      "If you want the future behaviour and silence this warning, you can specify \"categories='auto'\".\n",
      "In case you used a LabelEncoder before this OneHotEncoder to convert the categories to integers, then you can now use the OneHotEncoder directly.\n",
      "  warnings.warn(msg, FutureWarning)\n",
      "/opt/conda/lib/python3.7/site-packages/sklearn/preprocessing/label.py:235: DataConversionWarning: A column-vector y was passed when a 1d array was expected. Please change the shape of y to (n_samples, ), for example using ravel().\n",
      "  y = column_or_1d(y, warn=True)\n"
     ]
    },
    {
     "data": {
      "text/html": [
       "<div>\n",
       "<style scoped>\n",
       "    .dataframe tbody tr th:only-of-type {\n",
       "        vertical-align: middle;\n",
       "    }\n",
       "\n",
       "    .dataframe tbody tr th {\n",
       "        vertical-align: top;\n",
       "    }\n",
       "\n",
       "    .dataframe thead th {\n",
       "        text-align: right;\n",
       "    }\n",
       "</style>\n",
       "<table border=\"1\" class=\"dataframe\">\n",
       "  <thead>\n",
       "    <tr style=\"text-align: right;\">\n",
       "      <th></th>\n",
       "      <th>sex_0.0</th>\n",
       "      <th>sex_1.0</th>\n",
       "      <th>cp_1.0</th>\n",
       "      <th>cp_2.0</th>\n",
       "      <th>cp_3.0</th>\n",
       "      <th>cp_4.0</th>\n",
       "      <th>fbs_0.0</th>\n",
       "      <th>fbs_1.0</th>\n",
       "      <th>restecg_0.0</th>\n",
       "      <th>restecg_1.0</th>\n",
       "      <th>...</th>\n",
       "      <th>thal_3.0</th>\n",
       "      <th>thal_6.0</th>\n",
       "      <th>thal_7.0</th>\n",
       "      <th>thal_9.0</th>\n",
       "      <th>age</th>\n",
       "      <th>trestbps</th>\n",
       "      <th>chol</th>\n",
       "      <th>thalach</th>\n",
       "      <th>oldpeak</th>\n",
       "      <th>num</th>\n",
       "    </tr>\n",
       "  </thead>\n",
       "  <tbody>\n",
       "    <tr>\n",
       "      <th>0</th>\n",
       "      <td>0.0</td>\n",
       "      <td>1.0</td>\n",
       "      <td>1.0</td>\n",
       "      <td>0.0</td>\n",
       "      <td>0.0</td>\n",
       "      <td>0.0</td>\n",
       "      <td>0.0</td>\n",
       "      <td>1.0</td>\n",
       "      <td>0.0</td>\n",
       "      <td>0.0</td>\n",
       "      <td>...</td>\n",
       "      <td>0.0</td>\n",
       "      <td>1.0</td>\n",
       "      <td>0.0</td>\n",
       "      <td>0.0</td>\n",
       "      <td>0.948726</td>\n",
       "      <td>0.757525</td>\n",
       "      <td>-0.264900</td>\n",
       "      <td>0.017197</td>\n",
       "      <td>1.087338</td>\n",
       "      <td>0</td>\n",
       "    </tr>\n",
       "    <tr>\n",
       "      <th>1</th>\n",
       "      <td>0.0</td>\n",
       "      <td>1.0</td>\n",
       "      <td>0.0</td>\n",
       "      <td>0.0</td>\n",
       "      <td>0.0</td>\n",
       "      <td>1.0</td>\n",
       "      <td>1.0</td>\n",
       "      <td>0.0</td>\n",
       "      <td>0.0</td>\n",
       "      <td>0.0</td>\n",
       "      <td>...</td>\n",
       "      <td>1.0</td>\n",
       "      <td>0.0</td>\n",
       "      <td>0.0</td>\n",
       "      <td>0.0</td>\n",
       "      <td>1.392002</td>\n",
       "      <td>1.611220</td>\n",
       "      <td>0.760415</td>\n",
       "      <td>-1.821905</td>\n",
       "      <td>0.397182</td>\n",
       "      <td>2</td>\n",
       "    </tr>\n",
       "    <tr>\n",
       "      <th>2</th>\n",
       "      <td>0.0</td>\n",
       "      <td>1.0</td>\n",
       "      <td>0.0</td>\n",
       "      <td>0.0</td>\n",
       "      <td>0.0</td>\n",
       "      <td>1.0</td>\n",
       "      <td>1.0</td>\n",
       "      <td>0.0</td>\n",
       "      <td>0.0</td>\n",
       "      <td>0.0</td>\n",
       "      <td>...</td>\n",
       "      <td>0.0</td>\n",
       "      <td>0.0</td>\n",
       "      <td>1.0</td>\n",
       "      <td>0.0</td>\n",
       "      <td>1.392002</td>\n",
       "      <td>-0.665300</td>\n",
       "      <td>-0.342283</td>\n",
       "      <td>-0.902354</td>\n",
       "      <td>1.346147</td>\n",
       "      <td>1</td>\n",
       "    </tr>\n",
       "    <tr>\n",
       "      <th>3</th>\n",
       "      <td>0.0</td>\n",
       "      <td>1.0</td>\n",
       "      <td>0.0</td>\n",
       "      <td>0.0</td>\n",
       "      <td>1.0</td>\n",
       "      <td>0.0</td>\n",
       "      <td>1.0</td>\n",
       "      <td>0.0</td>\n",
       "      <td>1.0</td>\n",
       "      <td>0.0</td>\n",
       "      <td>...</td>\n",
       "      <td>1.0</td>\n",
       "      <td>0.0</td>\n",
       "      <td>0.0</td>\n",
       "      <td>0.0</td>\n",
       "      <td>-1.932564</td>\n",
       "      <td>-0.096170</td>\n",
       "      <td>0.063974</td>\n",
       "      <td>1.637359</td>\n",
       "      <td>2.122573</td>\n",
       "      <td>0</td>\n",
       "    </tr>\n",
       "    <tr>\n",
       "      <th>4</th>\n",
       "      <td>1.0</td>\n",
       "      <td>0.0</td>\n",
       "      <td>0.0</td>\n",
       "      <td>1.0</td>\n",
       "      <td>0.0</td>\n",
       "      <td>0.0</td>\n",
       "      <td>1.0</td>\n",
       "      <td>0.0</td>\n",
       "      <td>0.0</td>\n",
       "      <td>0.0</td>\n",
       "      <td>...</td>\n",
       "      <td>1.0</td>\n",
       "      <td>0.0</td>\n",
       "      <td>0.0</td>\n",
       "      <td>0.0</td>\n",
       "      <td>-1.489288</td>\n",
       "      <td>-0.096170</td>\n",
       "      <td>-0.825922</td>\n",
       "      <td>0.980537</td>\n",
       "      <td>0.310912</td>\n",
       "      <td>0</td>\n",
       "    </tr>\n",
       "  </tbody>\n",
       "</table>\n",
       "<p>5 rows × 31 columns</p>\n",
       "</div>"
      ],
      "text/plain": [
       "   sex_0.0  sex_1.0  cp_1.0  cp_2.0  cp_3.0  cp_4.0  fbs_0.0  fbs_1.0  \\\n",
       "0      0.0      1.0     1.0     0.0     0.0     0.0      0.0      1.0   \n",
       "1      0.0      1.0     0.0     0.0     0.0     1.0      1.0      0.0   \n",
       "2      0.0      1.0     0.0     0.0     0.0     1.0      1.0      0.0   \n",
       "3      0.0      1.0     0.0     0.0     1.0     0.0      1.0      0.0   \n",
       "4      1.0      0.0     0.0     1.0     0.0     0.0      1.0      0.0   \n",
       "\n",
       "   restecg_0.0  restecg_1.0  ...  thal_3.0  thal_6.0  thal_7.0  thal_9.0  \\\n",
       "0          0.0          0.0  ...       0.0       1.0       0.0       0.0   \n",
       "1          0.0          0.0  ...       1.0       0.0       0.0       0.0   \n",
       "2          0.0          0.0  ...       0.0       0.0       1.0       0.0   \n",
       "3          1.0          0.0  ...       1.0       0.0       0.0       0.0   \n",
       "4          0.0          0.0  ...       1.0       0.0       0.0       0.0   \n",
       "\n",
       "        age  trestbps      chol   thalach   oldpeak  num  \n",
       "0  0.948726  0.757525 -0.264900  0.017197  1.087338    0  \n",
       "1  1.392002  1.611220  0.760415 -1.821905  0.397182    2  \n",
       "2  1.392002 -0.665300 -0.342283 -0.902354  1.346147    1  \n",
       "3 -1.932564 -0.096170  0.063974  1.637359  2.122573    0  \n",
       "4 -1.489288 -0.096170 -0.825922  0.980537  0.310912    0  \n",
       "\n",
       "[5 rows x 31 columns]"
      ]
     },
     "execution_count": 5,
     "metadata": {},
     "output_type": "execute_result"
    }
   ],
   "source": [
    "# one-hot encoder\n",
    "ohe = OneHotEncoder(sparse=False)\n",
    "si = SimpleImputer(strategy='constant',fill_value=9)\n",
    "cat_values = ohe.fit_transform(si.fit_transform(df[cat_ftrs]))\n",
    "cat_ftr_names = ohe.get_feature_names(cat_ftrs)\n",
    "df_cat = pd.DataFrame(data=cat_values,columns = cat_ftr_names)\n",
    "\n",
    "# standard scaler\n",
    "ss = StandardScaler()\n",
    "num_values = ss.fit_transform(df[num_ftrs])\n",
    "df_num = pd.DataFrame(data=num_values,columns = num_ftrs)\n",
    "\n",
    "label\n",
    "le = LabelEncoder()\n",
    "label_values = le.fit_transform(df[label])\n",
    "df_label = pd.DataFrame(data=label_values, columns = label)\n",
    "\n",
    "df_preprocessed = pd.concat([df_cat,df_num,df_label],axis=1)\n",
    "print(df_preprocessed.shape)\n",
    "df_preprocessed.head()"
   ]
  },
  {
   "cell_type": "markdown",
   "metadata": {},
   "source": [
    "Problem 3: (5 points)\n",
    "\n",
    "Which feature has the strongest linear dependency with the target variable?"
   ]
  },
  {
   "cell_type": "code",
   "execution_count": 6,
   "metadata": {},
   "outputs": [
    {
     "data": {
      "text/plain": [
       "Index(['oldpeak'], dtype='object')"
      ]
     },
     "execution_count": 6,
     "metadata": {},
     "output_type": "execute_result"
    }
   ],
   "source": [
    "corrmat = df_preprocessed.corr()\n",
    "all_cols = corrmat.sort_values('num',ascending=False)['num'].index \n",
    "cols = all_cols[1:2] # positively correlated features\n",
    "cols"
   ]
  },
  {
   "cell_type": "markdown",
   "metadata": {},
   "source": [
    "**Solution:**    \n",
    "I get the correlation matrix from the pre processed data, and the feature 'oldpeak' is has the strongest linear dependency with 'num'"
   ]
  },
  {
   "cell_type": "markdown",
   "metadata": {},
   "source": [
    "Problem 4: (3 points)\n",
    "\n",
    "Prepare one visualization using the feature selected above and the target variable."
   ]
  },
  {
   "cell_type": "code",
   "execution_count": 9,
   "metadata": {},
   "outputs": [
    {
     "data": {
      "image/png": "[encoded data removed]",
      "text/plain": [
       "<Figure size 1008x648 with 1 Axes>"
      ]
     },
     "metadata": {
      "needs_background": "light"
     },
     "output_type": "display_data"
    }
   ],
   "source": [
    "plt.figure(figsize = (14,9))\n",
    "f = sns.boxplot(x='num', y='oldpeak', data=df)\n",
    "f.set_xticklabels(f.get_xticklabels(),rotation=90, fontsize = 16)\n",
    "f.set_title(\"oldpeak by num\", fontsize=20)\n",
    "f.set_xlabel(\"num\", fontsize=15)\n",
    "f.set_ylabel(\"oldpeak\", fontsize=15)\n",
    "plt.show()"
   ]
  },
  {
   "cell_type": "code",
   "execution_count": 10,
   "metadata": {},
   "outputs": [
    {
     "data": {
      "image/png": "[encoded data removed]",
      "text/plain": [
       "<Figure size 720x720 with 2 Axes>"
      ]
     },
     "metadata": {
      "needs_background": "light"
     },
     "output_type": "display_data"
    }
   ],
   "source": [
    "corrmat = df_preprocessed.corr()\n",
    "\n",
    "all_cols = corrmat.sort_values('num',ascending=False)['num'].index \n",
    "cols = all_cols[:10] # positively correlated features\n",
    "\n",
    "cm = corrmat.loc[cols,cols]\n",
    "\n",
    "plt.figure(figsize=(10,10))\n",
    "plt.matshow(cm,vmin=-1,vmax=1,cmap='seismic',fignum=0)\n",
    "plt.colorbar(label='corr. coeff.')\n",
    "plt.xticks(np.arange(cm.shape[0]),list(cols),rotation=90)\n",
    "plt.yticks(np.arange(cm.shape[0]),list(cols))\n",
    "plt.tight_layout()\n",
    "plt.title(\"correlation matrix\", fontsize = 15)\n",
    "# plt.savefig('figures/corr_coeff_dummies.png',dpi=300)\n",
    "plt.show()"
   ]
  },
  {
   "cell_type": "code",
   "execution_count": 13,
   "metadata": {},
   "outputs": [],
   "source": [
    "import pandas as pd\n",
    "import numpy  as np\n",
    "from sklearn.model_selection import StratifiedKFold\n",
    "from sklearn.model_selection import train_test_split\n",
    "from sklearn.preprocessing import OneHotEncoder\n",
    "from sklearn.preprocessing import StandardScaler\n",
    "from sklearn.linear_model import LogisticRegression\n",
    "from sklearn.ensemble import RandomForestClassifier\n",
    "from sklearn.metrics import accuracy_score\n",
    "from collections import defaultdict\n",
    "from sklearn.svm import SVC"
   ]
  },
  {
   "cell_type": "markdown",
   "metadata": {},
   "source": [
    "Problem 1) We will create a kfold CV pipeline for the heart disease dataset you worked with during the midterm exam."
   ]
  },
  {
   "cell_type": "markdown",
   "metadata": {},
   "source": [
    "Problem 1a) Read in the data and drop the rows with missing values. Remember that the dataset does not contain the feature names! Separate out the feature matrix (X) and the target variable (y). What is the balance of this dataset (the baseline accuracy)? (2 points)"
   ]
  },
  {
   "cell_type": "code",
   "execution_count": 11,
   "metadata": {},
   "outputs": [
    {
     "name": "stdout",
     "output_type": "stream",
     "text": [
      "The balance of the dataset is 53.87 %\n"
     ]
    }
   ],
   "source": [
    "# Read in the data\n",
    "df = pd.read_csv('data/cleveland.data',header=None)\n",
    "\n",
    "# set feature and label names\n",
    "feature_names = ['age','sex','cp','trestbps','chol','fbs','restecg',\n",
    "                 'thalach','exang','oldpeak','slope','ca','thal']\n",
    "label = 'num'\n",
    "df.columns = feature_names + [label]\n",
    "\n",
    "# replace '?' with nans\n",
    "df.replace(to_replace='?',value = np.nan, inplace=True)\n",
    "\n",
    "# drop the rows with missing value\n",
    "df = df.dropna()\n",
    "df.reset_index(drop=True, inplace=True)\n",
    "\n",
    "# Separate out the feature matrix (X) and the target variable (y)\n",
    "X = df[feature_names]\n",
    "y = df[label]\n",
    "\n",
    "X = X.values\n",
    "y = y.values\n",
    "# What is the balance of this dataset (the baseline accuracy)?\n",
    "balance = df[label].value_counts()/df[label].shape\n",
    "print(\"The balance of the dataset is\", np.around(balance[0],4)*100, \"%\")"
   ]
  },
  {
   "cell_type": "markdown",
   "metadata": {},
   "source": [
    "Problem 1b) ML pipeline with logistic regression\n",
    "\n",
    "Split your data in a stratified manner into `other` and `test` (20% in `test`) and then split `other` into 5 stratified folds. 4 of those folds will be used for training, the last fold will be CV. You'll need to loop through the 5 options the CV fold can be selected. (4 points)\n",
    "\n",
    "Preprocess the data. Apply the OneHotEncoder and the StandardScaler to the appropriate columns. Make sure to fit_transform only train (4 out of the 5 folds). The CV and test sets should be transformed based on the preprocessor fitted to train. (2 points)\n",
    "\n",
    "Train a logistic regression model with l1 regularization and tune the appropriate parameter. (4 points)\n",
    "\n",
    "Repeat the procedure 10 times with 10 different random states and print the mean and std of the test accuracy score. Make sure to print the best parameters and check that the best values are not at the edge of your parameter space if possible. Check that your code is reproducable! That is, if you rerun the cell, you get back the exact same result. (3 points)\n"
   ]
  },
  {
   "cell_type": "code",
   "execution_count": 14,
   "metadata": {},
   "outputs": [
    {
     "name": "stdout",
     "output_type": "stream",
     "text": [
      "The best alpha is 0.01\n",
      "The best alpha is 0.517947467923121\n",
      "The best alpha is 1.9306977288832496\n",
      "The best alpha is 0.01\n",
      "The best alpha is 0.01\n",
      "The best alpha is 1.9306977288832496\n",
      "The best alpha is 0.517947467923121\n",
      "The best alpha is 0.517947467923121\n",
      "The best alpha is 7.196856730011514\n",
      "The best alpha is 1.9306977288832496\n",
      "Lasso best accuracy is  0.58 +/- 0.03\n"
     ]
    }
   ],
   "source": [
    "# train lasso\n",
    "def ML_pipeline_kfold(X,y,random_state,n_folds):\n",
    "    # split the data\n",
    "    X_other, X_test, y_other, y_test = train_test_split(X, y, test_size=0.2, \n",
    "                                                        random_state = random_state, stratify = y)\n",
    "    CV_scores = []\n",
    "    test_scores = []\n",
    "    # k folds - each fold will give us a CV and a test score\n",
    "    kf = StratifiedKFold(n_splits=n_folds,shuffle=True,random_state=random_state)\n",
    "    # loop through 5 selected folders\n",
    "    for train_index, CV_index in kf.split(X_other,y_other):\n",
    "        X_train, X_CV = X_other[train_index], X_other[CV_index]\n",
    "        y_train, y_CV = y_other[train_index], y_other[CV_index]\n",
    "    \n",
    "        label = ['num']\n",
    "        # preprocessing - continuous feature\n",
    "        scaler = StandardScaler()\n",
    "#         num_ftrs = ['age', 'trestbps','chol','thalach','oldpeak']\n",
    "        num_ftrs = [0,3,4,7,9]\n",
    "        X_train_num = scaler.fit_transform(X_train[:,num_ftrs])\n",
    "        X_c_num = scaler.transform(X_CV[:,num_ftrs])\n",
    "        X_t_num = scaler.transform(X_test[:,num_ftrs])\n",
    "\n",
    "        # preprocessing - cat features\n",
    "        ohe = OneHotEncoder(sparse = False, handle_unknown = \"ignore\")\n",
    "#         cat_ftrs = ['sex', 'cp', 'fbs', 'restecg','exang','slope', 'ca', 'thal']\n",
    "#         cat_ftrs = [1,2,5,6,8,10,11,12]\n",
    "        cat_ftrs = [2,10,12]\n",
    "        X_train_cat = ohe.fit_transform(X_train[:,cat_ftrs])\n",
    "#         print('X_train_cat', X_train_cat)\n",
    "        X_c_cat = ohe.transform(X_CV[:,cat_ftrs])\n",
    "#         print('X_c_cat', X_c_cat)\n",
    "        X_t_cat = ohe.transform(X_test[:,cat_ftrs])\n",
    "        \n",
    "        # binary features\n",
    "#         bin_ord_ftrs = ['sex', 'fbs', 'exang', 'ca', 'restecg']\n",
    "        bi_ftrs = [1,5,6,8,11]\n",
    "        X_train_bi = X_train[:,bi_ftrs]\n",
    "        X_c_bi = X_CV[:,bi_ftrs]\n",
    "        X_t_bi = X_test[:,bi_ftrs]\n",
    "\n",
    "        X_train_prep = np.concatenate((X_train_cat,X_train_num,X_train_bi),axis=1)\n",
    "        X_c = np.concatenate((X_c_cat,X_c_num, X_c_bi),axis=1)\n",
    "        X_t = np.concatenate((X_t_cat,X_t_num, X_t_bi),axis=1)\n",
    "        X_train = X_train_prep\n",
    "        \n",
    "        # tune lasso hyper-parameter, alpha\n",
    "        alpha = np.logspace(-2,2,num=8)\n",
    "        train_score = []\n",
    "        CV_score = []\n",
    "        regs = []\n",
    "        for a in alpha:\n",
    "            reg = LogisticRegression(penalty='l1',C = 1/a, multi_class = 'multinomial', \n",
    "                                     solver='saga', max_iter = 1e4)\n",
    "            reg.fit(X_train,y_train)\n",
    "            train_score.append(accuracy_score(y_train,reg.predict(X_train)))\n",
    "            CV_score.append(accuracy_score(y_CV,reg.predict(X_c)))\n",
    "            regs.append(reg)\n",
    "        # find the best alpha in this fold\n",
    "        best_alpha = alpha[np.argmax(CV_score)]\n",
    "        # grab the best model\n",
    "        reg = regs[np.argmax(CV_score)]\n",
    "        CV_scores.append(np.max(CV_score))\n",
    "        # calculate test score using the best model\n",
    "        test_scores.append(accuracy_score(y_test,reg.predict(X_t)))\n",
    "        \n",
    "    print(\"The best alpha is\", best_alpha)\n",
    "    return CV_scores,test_scores\n",
    "\n",
    "test_scores = []\n",
    "\n",
    "for i in range(10):\n",
    "    grid, test_score = ML_pipeline_kfold(X,y,42*i,5)\n",
    "    test_scores.append(test_score)\n",
    "print(\"Lasso best accuracy is \",np.around(np.mean(test_scores),2), '+/-', np.around(np.std(test_scores),2))\n",
    "\n",
    "# Lasso best accuracy is  0.58 +/- 0.03"
   ]
  },
  {
   "cell_type": "markdown",
   "metadata": {},
   "source": [
    "Problem 1d) Train a random forest classifier and tune the appropriate parameters. Make sure to print the best parameters and check that the best values are not at the edge of your parameter space if possible. Repeat the procedure 10 times with 10 different random states and print the mean and std of the test accuracy score. Check that your code is reproducable! That is, if you rerun the cell, you get back the exact same result. (5 points)"
   ]
  },
  {
   "cell_type": "code",
   "execution_count": 15,
   "metadata": {},
   "outputs": [
    {
     "name": "stdout",
     "output_type": "stream",
     "text": [
      "best max_depths is  3\n",
      "best min sample splits is  12\n",
      "best max_depths is  7\n",
      "best min sample splits is  5\n",
      "best max_depths is  4\n",
      "best min sample splits is  9\n",
      "best max_depths is  4\n",
      "best min sample splits is  5\n",
      "best max_depths is  7\n",
      "best min sample splits is  8\n",
      "best max_depths is  7\n",
      "best min sample splits is  11\n",
      "best max_depths is  2\n",
      "best min sample splits is  5\n",
      "best max_depths is  6\n",
      "best min sample splits is  11\n",
      "best max_depths is  9\n",
      "best min sample splits is  8\n",
      "best max_depths is  4\n",
      "best min sample splits is  14\n",
      "Random Tree best accuracy is  0.58 +/- 0.03\n"
     ]
    }
   ],
   "source": [
    "# train random forest\n",
    "def ML_pipeline_kfold(X,y,random_state,n_folds):\n",
    "    X_other, X_test, y_other, y_test = train_test_split(X, y, test_size=0.2, random_state = random_state, stratify = y)\n",
    "    CV_scores = []\n",
    "    test_scores = []\n",
    "    kf = StratifiedKFold(n_splits=n_folds, shuffle=True,random_state=random_state)\n",
    "    for train_index, CV_index in kf.split(X_other,y_other):\n",
    "        X_train, X_CV = X_other[train_index], X_other[CV_index]\n",
    "        y_train, y_CV = y_other[train_index], y_other[CV_index]\n",
    "\n",
    "        scaler = StandardScaler()\n",
    "#         num_ftrs = ['age', 'trestbps','chol','thalach','oldpeak']\n",
    "        num_ftrs = [0,3,4,7,9]\n",
    "        X_train_num = scaler.fit_transform(X_train[:,num_ftrs])\n",
    "        X_c_num = scaler.transform(X_CV[:,num_ftrs])\n",
    "        X_t_num = scaler.transform(X_test[:,num_ftrs])\n",
    "\n",
    "        # preprocessing - cat features\n",
    "        ohe = OneHotEncoder(sparse = False, handle_unknown = \"ignore\")\n",
    "#         cat_ftrs = ['sex', 'cp', 'fbs', 'restecg','exang','slope', 'ca', 'thal']\n",
    "#         cat_ftrs = [1,2,5,6,8,10,11,12]\n",
    "        cat_ftrs = [2,10,12]\n",
    "        X_train_cat = ohe.fit_transform(X_train[:,cat_ftrs])\n",
    "#         print('X_train_cat', X_train_cat)\n",
    "        X_c_cat = ohe.transform(X_CV[:,cat_ftrs])\n",
    "#         print('X_c_cat', X_c_cat)\n",
    "        X_t_cat = ohe.transform(X_test[:,cat_ftrs])\n",
    "        \n",
    "        # binary features\n",
    "#         bin_ord_ftrs = ['sex', 'fbs', 'exang', 'ca', 'restecg']\n",
    "        bi_ftrs = [1,5,6,8,11]\n",
    "        X_train_bi = X_train[:,bi_ftrs]\n",
    "        X_c_bi = X_CV[:,bi_ftrs]\n",
    "        X_t_bi = X_test[:,bi_ftrs]\n",
    "\n",
    "        X_train_prep = np.concatenate((X_train_cat,X_train_num,X_train_bi),axis=1)\n",
    "        X_c = np.concatenate((X_c_cat,X_c_num, X_c_bi),axis=1)\n",
    "        X_t = np.concatenate((X_t_cat,X_t_num, X_t_bi),axis=1)\n",
    "        X_train = X_train_prep\n",
    "\n",
    "        # tune random forest hyper-parameter, depth and min sample split\n",
    "        depths = [i for i in range(1,15)]\n",
    "        sss = [i for i in range(5,15)]\n",
    "        train_score = defaultdict(lambda: 0)\n",
    "        CV_score = defaultdict(lambda: 0)\n",
    "        regs = defaultdict(lambda: RandomForestClassifier(n_estimators=10, max_depth=2, min_samples_split=2, random_state=random_state))\n",
    "        for i,depth in enumerate(depths):\n",
    "            for j,ss in enumerate(sss):\n",
    "                reg = RandomForestClassifier(n_estimators=10, max_depth=depth, min_samples_split=ss, random_state=random_state)\n",
    "                reg.fit(X_train, y_train)\n",
    "                train_score[(i,j)] = accuracy_score(y_train, reg.predict(X_train))\n",
    "                CV_score[(i,j)] = accuracy_score(y_CV, reg.predict(X_c))\n",
    "                regs[(i,j)] = reg\n",
    "        # find the best alpha in this fold\n",
    "        best_CV_pair = max(CV_score, key=CV_score.get)\n",
    "        best_depths = depths[best_CV_pair[0]]\n",
    "        best_sss = sss[best_CV_pair[1]]\n",
    "        # grab the best model\n",
    "        reg = regs[best_CV_pair]\n",
    "        CV_scores.append(np.max(CV_score))\n",
    "        # calculate test score using thee best model\n",
    "        test_scores.append(accuracy_score(y_test, reg.predict(X_t)))\n",
    "    \n",
    "    print(\"best max_depths is \", best_depths)\n",
    "    print(\"best min sample splits is \", best_sss)\n",
    "    return CV_scores, test_scores\n",
    "\n",
    "\n",
    "test_scores = []\n",
    "for i in range(10):\n",
    "    grid, test_score = ML_pipeline_kfold(X,y,42*i,5)\n",
    "    test_scores.append(test_score)\n",
    "print(\"Random Tree best accuracy is \",np.around(np.mean(test_scores),2), '+/-', np.around(np.std(test_scores),2))\n"
   ]
  },
  {
   "cell_type": "markdown",
   "metadata": {},
   "source": [
    "Problem 1e) Train an SVC and tune the appropriate parameters. Make sure to print the best parameters and check that the best values are not at the edge of your parameter space if possible. Repeat the procedure 10 times with 10 different random states and print the mean and std of the test accuracy score. Check that your code is reproducable! That is, if you rerun the cell, you get back the exact same result. (4 points)"
   ]
  },
  {
   "cell_type": "code",
   "execution_count": null,
   "metadata": {},
   "outputs": [
    {
     "name": "stdout",
     "output_type": "stream",
     "text": [
      "best gamma is  1e-07\n",
      "best c is  100000.0\n",
      "best gamma is  0.01\n",
      "best c is  100.0\n",
      "best gamma is  1e-09\n",
      "best c is  100000000.0\n"
     ]
    }
   ],
   "source": [
    "# Train an SVC\n",
    "\n",
    "def ML_pipeline_kfold(X,y,random_state,n_folds):\n",
    "    X_other, X_test, y_other, y_test = train_test_split(X, y, test_size=0.2, random_state = random_state, stratify = y)\n",
    "    CV_scores = []\n",
    "    test_scores = []\n",
    "    kf = StratifiedKFold(n_splits=n_folds, shuffle=True,random_state=random_state)\n",
    "    for train_index, CV_index in kf.split(X_other,y_other):\n",
    "        X_train, X_CV = X_other[train_index], X_other[CV_index]\n",
    "        y_train, y_CV = y_other[train_index], y_other[CV_index]\n",
    "\n",
    "        scaler = StandardScaler()\n",
    "#         num_ftrs = ['age', 'trestbps','chol','thalach','oldpeak']\n",
    "        num_ftrs = [0,3,4,7,9]\n",
    "        X_train_num = scaler.fit_transform(X_train[:,num_ftrs])\n",
    "        X_c_num = scaler.transform(X_CV[:,num_ftrs])\n",
    "        X_t_num = scaler.transform(X_test[:,num_ftrs])\n",
    "\n",
    "        # preprocessing - cat features\n",
    "        ohe = OneHotEncoder(sparse = False, handle_unknown = \"ignore\")\n",
    "#         cat_ftrs = ['sex', 'cp', 'fbs', 'restecg','exang','slope', 'ca', 'thal']\n",
    "#         cat_ftrs = [1,2,5,6,8,10,11,12]\n",
    "        cat_ftrs = [2,10,12]\n",
    "        X_train_cat = ohe.fit_transform(X_train[:,cat_ftrs])\n",
    "#         print('X_train_cat', X_train_cat)\n",
    "        X_c_cat = ohe.transform(X_CV[:,cat_ftrs])\n",
    "#         print('X_c_cat', X_c_cat)\n",
    "        X_t_cat = ohe.transform(X_test[:,cat_ftrs])\n",
    "        \n",
    "        # binary features\n",
    "#         bin_ord_ftrs = ['sex', 'fbs', 'exang', 'ca', 'restecg']\n",
    "        bi_ftrs = [1,5,6,8,11]\n",
    "        X_train_bi = X_train[:,bi_ftrs]\n",
    "        X_c_bi = X_CV[:,bi_ftrs]\n",
    "        X_t_bi = X_test[:,bi_ftrs]\n",
    "\n",
    "        X_train_prep = np.concatenate((X_train_cat,X_train_num,X_train_bi),axis=1)\n",
    "        X_c = np.concatenate((X_c_cat,X_c_num, X_c_bi),axis=1)\n",
    "        X_t = np.concatenate((X_t_cat,X_t_num, X_t_bi),axis=1)\n",
    "        X_train = X_train_prep\n",
    "\n",
    "        # tune svc hyper-parameter, gamma and c \n",
    "        gammas= np.logspace(-9, 3, 13)\n",
    "        Cs = np.logspace(1, 10, 10)\n",
    "        train_score = defaultdict(lambda: 0)\n",
    "        CV_score = defaultdict(lambda: 0)\n",
    "        regs = defaultdict(lambda: SVC(gamma = 1, C = 1, probability=True, random_state=random_state))\n",
    "        for i,gamma_value in enumerate(gammas):\n",
    "            for j,c in enumerate(Cs):\n",
    "                reg = SVC(gamma = gamma_value, C = c, probability=True)\n",
    "                reg.fit(X_train, y_train)\n",
    "                train_score[(i,j)] = accuracy_score(y_train, reg.predict(X_train))\n",
    "                CV_score[(i,j)] = accuracy_score(y_CV, reg.predict(X_c))\n",
    "                regs[(i,j)] = reg\n",
    "        # find the best alpha in this fold\n",
    "        best_CV_pair = max(CV_score, key=CV_score.get)\n",
    "        best_gamma = gammas[best_CV_pair[0]]\n",
    "        best_c = Cs[best_CV_pair[1]]\n",
    "        # grab the best model\n",
    "        reg = regs[best_CV_pair]\n",
    "        CV_scores.append(np.max(CV_score))\n",
    "        # calculate test score using thee best model\n",
    "        test_scores.append(accuracy_score(y_test, reg.predict(X_t)))\n",
    "    \n",
    "    print(\"best gamma is \", best_gamma)\n",
    "    print(\"best c is \", best_c)\n",
    "    return CV_scores, test_scores\n",
    "\n",
    "test_scores = []\n",
    "for i in range(10):\n",
    "    grid, test_score = ML_pipeline_kfold(X,y,42*i,5)\n",
    "    test_scores.append(test_score)\n",
    "print(\"SVC best accuracy is \",np.around(np.mean(test_scores),2), '+/-', np.around(np.std(test_scores),2))"
   ]
  },
  {
   "cell_type": "markdown",
   "metadata": {},
   "source": [
    "Problem 1f) Compare the means and standard deviations of the three techniques. How many standard deviations above the baseline accuracy are the three models? How would you rank them with respect of accuracy? (3 points)"
   ]
  },
  {
   "cell_type": "code",
   "execution_count": null,
   "metadata": {},
   "outputs": [],
   "source": [
    "# 1f)\n",
    "print(\"Lasso regularization:\", (0.58-0.5387)/0.03)\n",
    "print(\"Random Forest:\", (0.58-0.5387)/0.03)\n",
    "print(\"SVC:\", (0.56-0.5387)/0.04)"
   ]
  },
  {
   "cell_type": "markdown",
   "metadata": {},
   "source": [
    "**Solution:**   \n",
    "The random forest and the Lasso regularization are better than the SVC. "
   ]
  },
  {
   "cell_type": "code",
   "execution_count": null,
   "metadata": {},
   "outputs": [],
   "source": []
  }
 ],
 "metadata": {
  "kernelspec": {
   "display_name": "Python 3",
   "language": "python",
   "name": "python3"
  },
  "language_info": {
   "codemirror_mode": {
    "name": "ipython",
    "version": 3
   },
   "file_extension": ".py",
   "mimetype": "text/x-python",
   "name": "python",
   "nbconvert_exporter": "python",
   "pygments_lexer": "ipython3",
   "version": "3.7.3"
  }
 },
 "nbformat": 4,
 "nbformat_minor": 4
}
